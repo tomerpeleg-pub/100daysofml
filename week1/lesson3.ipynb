{
 "cells": [
  {
   "cell_type": "markdown",
   "metadata": {},
   "source": [
    "# Day 3: Control Structures - Loops\n"
   ]
  },
  {
   "cell_type": "code",
   "execution_count": 5,
   "metadata": {},
   "outputs": [
    {
     "name": "stdout",
     "output_type": "stream",
     "text": [
      "[1, 2.1, 3, True, 'hello world']\n",
      "5\n"
     ]
    }
   ],
   "source": [
    "mixed_list = [1, 2.1, 3, True, \"hello world\"]\n",
    "print(mixed_list)\n",
    "print(len(mixed_list))\n"
   ]
  },
  {
   "cell_type": "code",
   "execution_count": 6,
   "metadata": {},
   "outputs": [
    {
     "name": "stdout",
     "output_type": "stream",
     "text": [
      "{'name': 'tomer', 'age': 56}\n",
      "number of keys: 2\n"
     ]
    }
   ],
   "source": [
    "mixed_dict = {\"name\": \"tomer\", \"age\": 56}\n",
    "print(mixed_dict)\n",
    "print(f\"number of keys: {len(mixed_dict)}\")\n"
   ]
  },
  {
   "cell_type": "code",
   "execution_count": 8,
   "metadata": {},
   "outputs": [
    {
     "name": "stdout",
     "output_type": "stream",
     "text": [
      "0\n",
      "1\n",
      "2\n",
      "3\n",
      "4\n"
     ]
    }
   ],
   "source": [
    "i = 0\n",
    "while i < 5:\n",
    "    print(i)\n",
    "    i += 1\n"
   ]
  },
  {
   "cell_type": "code",
   "execution_count": 9,
   "metadata": {},
   "outputs": [
    {
     "name": "stdout",
     "output_type": "stream",
     "text": [
      "5\n",
      "4\n",
      "3\n",
      "2\n",
      "1\n",
      "0\n"
     ]
    }
   ],
   "source": [
    "while i >= 0:\n",
    "    print(i)\n",
    "    i -= 1\n"
   ]
  },
  {
   "cell_type": "code",
   "execution_count": 10,
   "metadata": {},
   "outputs": [
    {
     "name": "stdout",
     "output_type": "stream",
     "text": [
      "1\n",
      "2.1\n",
      "3\n",
      "True\n",
      "hello world\n"
     ]
    }
   ],
   "source": [
    "for item in mixed_list:\n",
    "    print(item)\n"
   ]
  },
  {
   "cell_type": "code",
   "execution_count": 11,
   "metadata": {},
   "outputs": [
    {
     "ename": "ValueError",
     "evalue": "too many values to unpack (expected 2)",
     "output_type": "error",
     "traceback": [
      "\u001b[1;31m---------------------------------------------------------------------------\u001b[0m",
      "\u001b[1;31mValueError\u001b[0m                                Traceback (most recent call last)",
      "\u001b[1;32mc:\\projects\\100daysofml\\week1\\lesson3.ipynb Cell 7\u001b[0m line \u001b[0;36m1\n\u001b[1;32m----> <a href='vscode-notebook-cell:/c%3A/projects/100daysofml/week1/lesson3.ipynb#W6sZmlsZQ%3D%3D?line=0'>1</a>\u001b[0m \u001b[39mfor\u001b[39;00m key, val \u001b[39min\u001b[39;00m mixed_dict:\n\u001b[0;32m      <a href='vscode-notebook-cell:/c%3A/projects/100daysofml/week1/lesson3.ipynb#W6sZmlsZQ%3D%3D?line=1'>2</a>\u001b[0m     \u001b[39mprint\u001b[39m(\u001b[39mf\u001b[39m\u001b[39m'\u001b[39m\u001b[39mkey: \u001b[39m\u001b[39m{\u001b[39;00mkey\u001b[39m}\u001b[39;00m\u001b[39m, val: $\u001b[39m\u001b[39m{\u001b[39;00mval\u001b[39m}\u001b[39;00m\u001b[39m'\u001b[39m)\n",
      "\u001b[1;31mValueError\u001b[0m: too many values to unpack (expected 2)"
     ]
    }
   ],
   "source": [
    "for key, val in mixed_dict:\n",
    "    print(f\"key: {key}, val: ${val}\")\n"
   ]
  },
  {
   "cell_type": "code",
   "execution_count": 13,
   "metadata": {},
   "outputs": [
    {
     "name": "stdout",
     "output_type": "stream",
     "text": [
      "key: name, val: tomer\n",
      "key: age, val: 56\n"
     ]
    }
   ],
   "source": [
    "for key, val in mixed_dict.items():\n",
    "    print(f\"key: {key}, val: {val}\")\n"
   ]
  },
  {
   "cell_type": "code",
   "execution_count": 14,
   "metadata": {},
   "outputs": [
    {
     "name": "stdout",
     "output_type": "stream",
     "text": [
      "0\n",
      "1\n",
      "2\n",
      "3\n",
      "4\n",
      "5\n",
      "6\n",
      "7\n",
      "8\n",
      "9\n"
     ]
    }
   ],
   "source": [
    "for i in range(10):\n",
    "    print(i)\n"
   ]
  },
  {
   "cell_type": "code",
   "execution_count": 15,
   "metadata": {},
   "outputs": [
    {
     "name": "stdout",
     "output_type": "stream",
     "text": [
      "<class 'int'> 1\n",
      "<class 'float'> 2.1\n",
      "<class 'int'> 3\n",
      "<class 'bool'> True\n",
      "<class 'str'> hello world\n"
     ]
    }
   ],
   "source": [
    "for item in mixed_list:\n",
    "    print(type(item), item)\n"
   ]
  },
  {
   "cell_type": "code",
   "execution_count": 19,
   "metadata": {},
   "outputs": [
    {
     "name": "stdout",
     "output_type": "stream",
     "text": [
      "3\n",
      "4\n"
     ]
    }
   ],
   "source": [
    "for i in range(3, 7):\n",
    "    if i == 5:\n",
    "        break\n",
    "\n",
    "    print(i)\n"
   ]
  },
  {
   "cell_type": "code",
   "execution_count": 23,
   "metadata": {},
   "outputs": [
    {
     "name": "stdout",
     "output_type": "stream",
     "text": [
      "1\n",
      "2\n",
      "3\n",
      "4\n",
      "done 4\n"
     ]
    }
   ],
   "source": [
    "for i in range(1, 5):\n",
    "    print(i)\n",
    "else:\n",
    "    print(\"done\", i)\n"
   ]
  },
  {
   "cell_type": "code",
   "execution_count": 27,
   "metadata": {},
   "outputs": [
    {
     "name": "stdout",
     "output_type": "stream",
     "text": [
      "0 1\n",
      "1 2.1\n",
      "2 3\n",
      "found 2 3\n",
      "3 True\n",
      "4 hello world\n",
      "no item equalling 3.0\n"
     ]
    }
   ],
   "source": [
    "for i, item in enumerate(mixed_list):\n",
    "    print(i, item)\n",
    "    if item == 3.0:\n",
    "        print(\"found\", i, item)\n",
    "else:\n",
    "    print(\"no item equalling 3.0\")\n"
   ]
  },
  {
   "cell_type": "markdown",
   "metadata": {},
   "source": [
    "# Example Program 1: Prime Number Checker\n",
    "\n",
    "Problem Statement: Create a program that checks whether a number is a prime number. A prime number is a natural number greater than 1 that has no positive divisors other than 1 and itself.\n"
   ]
  },
  {
   "cell_type": "code",
   "execution_count": 49,
   "metadata": {},
   "outputs": [],
   "source": [
    "# naive solution\n",
    "def is_prime(n: int):\n",
    "    if n <= 1:\n",
    "        return False\n",
    "\n",
    "    if n == 2 or n == 3:\n",
    "        return True\n",
    "\n",
    "    for i in range(2, (n // 2) + 1):\n",
    "        if n % i == 0:\n",
    "            return False\n",
    "    else:\n",
    "        return True\n"
   ]
  },
  {
   "cell_type": "code",
   "execution_count": 48,
   "metadata": {},
   "outputs": [
    {
     "name": "stdout",
     "output_type": "stream",
     "text": [
      "1 is prime? False\n",
      "2 is prime? True\n",
      "3 is prime? True\n",
      "4 is prime? False\n",
      "5 is prime? True\n",
      "6 is prime? False\n",
      "7 is prime? True\n",
      "8 is prime? False\n",
      "9 is prime? False\n",
      "10 is prime? False\n",
      "11 is prime? True\n",
      "12 is prime? False\n",
      "13 is prime? True\n",
      "14 is prime? False\n",
      "15 is prime? False\n",
      "16 is prime? False\n",
      "17 is prime? True\n",
      "18 is prime? False\n",
      "19 is prime? True\n",
      "20 is prime? False\n",
      "21 is prime? False\n",
      "22 is prime? False\n",
      "23 is prime? True\n",
      "24 is prime? False\n",
      "25 is prime? False\n",
      "26 is prime? False\n",
      "27 is prime? False\n",
      "28 is prime? False\n",
      "29 is prime? True\n",
      "30 is prime? False\n",
      "31 is prime? True\n",
      "32 is prime? False\n",
      "33 is prime? False\n",
      "34 is prime? False\n",
      "35 is prime? False\n",
      "36 is prime? False\n",
      "37 is prime? True\n",
      "38 is prime? False\n",
      "39 is prime? False\n",
      "40 is prime? False\n",
      "41 is prime? True\n",
      "42 is prime? False\n",
      "43 is prime? True\n",
      "44 is prime? False\n",
      "45 is prime? False\n",
      "46 is prime? False\n",
      "47 is prime? True\n",
      "48 is prime? False\n",
      "49 is prime? False\n"
     ]
    }
   ],
   "source": [
    "for i in range(1, 50):\n",
    "    print(f\"{i} is prime? {is_prime(i)}\")\n"
   ]
  },
  {
   "cell_type": "markdown",
   "metadata": {},
   "source": [
    "# Example Program 2: Basic Arithmetic Quiz\n",
    "\n",
    "**Problem Statement**: Create a simple arithmetic quiz program that asks the user to solve a series of basic math problems (addition, subtraction, multiplication). The program should:\n",
    "\n",
    "- Present a new problem in each iteration of the loop.\n",
    "- Ask the user for their answer.\n",
    "- Use boolean logic to check if the answer is correct.\n",
    "- Give immediate feedback (correct/incorrect) and provide the correct answer if incorrect.\n",
    "- End the quiz after a certain number of questions.\n"
   ]
  },
  {
   "cell_type": "code",
   "execution_count": 58,
   "metadata": {},
   "outputs": [
    {
     "name": "stdout",
     "output_type": "stream",
     "text": [
      "sorry the correct answer is: 54\n"
     ]
    }
   ],
   "source": [
    "import random\n",
    "\n",
    "num_questions = 5\n",
    "\n",
    "for i in range(1, num_questions):\n",
    "    op = random.choice([\"-\", \"+\", \"*\"])\n",
    "    a = random.randint(1, 10)\n",
    "    b = random.randint(1, 10)\n",
    "    answer = int(input(f\"what is {a} {op} {b}?\"))\n",
    "    correctAnswer = None\n",
    "\n",
    "    match op:\n",
    "        case \"-\":\n",
    "            correctAnswer = a - b\n",
    "        case \"+\":\n",
    "            correctAnswer = a + b\n",
    "        case \"*\":\n",
    "            correctAnswer = a * b\n",
    "\n",
    "    if answer != correctAnswer:\n",
    "        print(f\"sorry the correct answer is: {correctAnswer}\")\n",
    "        break\n",
    "else:\n",
    "    print(\"well done!\")\n"
   ]
  }
 ],
 "metadata": {
  "kernelspec": {
   "display_name": "Python 3",
   "language": "python",
   "name": "python3"
  },
  "language_info": {
   "codemirror_mode": {
    "name": "ipython",
    "version": 3
   },
   "file_extension": ".py",
   "mimetype": "text/x-python",
   "name": "python",
   "nbconvert_exporter": "python",
   "pygments_lexer": "ipython3",
   "version": "3.11.1"
  }
 },
 "nbformat": 4,
 "nbformat_minor": 2
}
