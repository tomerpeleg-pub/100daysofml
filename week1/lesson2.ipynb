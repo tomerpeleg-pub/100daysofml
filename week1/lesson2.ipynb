{
 "cells": [
  {
   "cell_type": "markdown",
   "metadata": {},
   "source": [
    "# Day 2: Python Data Types\n"
   ]
  },
  {
   "cell_type": "code",
   "execution_count": 7,
   "metadata": {},
   "outputs": [
    {
     "name": "stdout",
     "output_type": "stream",
     "text": [
      "identity\n",
      "equality\n",
      "equality\n",
      "or\n",
      "in cat\n",
      "c not in cat\n",
      "x is not y\n"
     ]
    }
   ],
   "source": [
    "if True and True:\n",
    "    print(\"identity\")\n",
    "\n",
    "if True == True:\n",
    "    print(\"equality\")\n",
    "\n",
    "if True is True:\n",
    "    print(\"equality\")\n",
    "\n",
    "if True or False:\n",
    "    print(\"or\")\n",
    "\n",
    "if \"a\" in \"cat\":\n",
    "    print(\"in cat\")\n",
    "\n",
    "if \"x\" not in \"cat\":\n",
    "    print(\"c not in cat\")\n",
    "\n",
    "x = 3\n",
    "y = 4\n",
    "\n",
    "if x == y:\n",
    "    print(\"x == y\")\n",
    "\n",
    "if x is y:\n",
    "    print(\"x is y\")\n",
    "elif x is not y:\n",
    "    print(\"x is not y\")\n"
   ]
  },
  {
   "cell_type": "markdown",
   "metadata": {},
   "source": [
    "## Hands-On Project: Logic and Calculation\n",
    "\n",
    "Create a program that determines if a person is eligible for a specific discount at a store. The discount criteria are as follows:\n",
    "\n",
    "- The person must be either a senior citizen (age 65 or older) or a student.\n",
    "- The total purchase amount must be more than $50.\n",
    "- If today is Tuesday, there’s an additional 5% discount for everyone.\n",
    "\n",
    "Write a program that takes three inputs: age, student status (True/False), total purchase amount, and whether today is Tuesday (True/False). The program should output whether the person is eligible for the discount and the final price after any additional Tuesday discount.\n"
   ]
  },
  {
   "cell_type": "code",
   "execution_count": 26,
   "metadata": {},
   "outputs": [
    {
     "name": "stdout",
     "output_type": "stream",
     "text": [
      "Discount Eligible: True\n",
      "Final Price: $63.00\n"
     ]
    }
   ],
   "source": [
    "def calculate_discount(\n",
    "    age: int, is_student: bool, total_amount: float, is_tuesday: bool\n",
    "):\n",
    "    final_price = total_amount * 1.05 if is_tuesday else total_amount\n",
    "\n",
    "    if (age >= 65 or is_student) and total_amount > 50:\n",
    "        return True, final_price\n",
    "\n",
    "    return False, final_price\n"
   ]
  },
  {
   "cell_type": "code",
   "execution_count": 27,
   "metadata": {},
   "outputs": [
    {
     "name": "stdout",
     "output_type": "stream",
     "text": [
      "Discount Eligible: True\n",
      "Final Price: $63.00\n"
     ]
    }
   ],
   "source": [
    "age = 70\n",
    "is_student = False\n",
    "total_purchase = 60\n",
    "is_tuesday = True\n",
    "\n",
    "eligible, final_price = calculate_discount(age, is_student, total_purchase, is_tuesday)\n",
    "print(f\"Discount Eligible: {eligible}\")\n",
    "print(f\"Final Price: ${final_price:.2f}\")\n"
   ]
  },
  {
   "cell_type": "code",
   "execution_count": 28,
   "metadata": {},
   "outputs": [],
   "source": [
    "# Tests\n",
    "\n",
    "# senior citizen\n",
    "assert calculate_discount(70, False, 100, False) == (\n",
    "    True,\n",
    "    100,\n",
    "), \"should be True, 100\"\n",
    "\n",
    "# student\n",
    "assert calculate_discount(50, True, 100, False) == (\n",
    "    True,\n",
    "    100,\n",
    "), \"should be True, 100\"\n",
    "\n",
    "# Tuesday\n",
    "assert calculate_discount(70, False, 100, True) == (\n",
    "    True,\n",
    "    105,\n",
    "), \"should be True, 105\"\n",
    "\n",
    "# Not elegible for anything\n",
    "assert calculate_discount(20, False, 100, False) == (\n",
    "    False,\n",
    "    100,\n",
    "), \"should be False, 100\"\n"
   ]
  },
  {
   "cell_type": "markdown",
   "metadata": {},
   "source": [
    "# Practice Problem\n",
    "\n",
    "Now, try a similar problem to test your understanding:\n",
    "\n",
    "_Problem Statement_: Write a program to determine if a customer is eligible for a membership upgrade at a gym. The criteria for the upgrade are:\n",
    "\n",
    "- The customer must have been a member for at least 2 years or be over the age of 60.\n",
    "- The customer must have attended at least 100 gym sessions.\n",
    "- If the customer has referred more than 3 friends, they get an automatic upgrade regardless of other criteria.\n",
    "\n",
    "The program should take four inputs: years of membership, age, number of gym sessions attended, and number of friends referred. Output whether the customer is eligible for the membership upgrade.\n",
    "\n",
    "Try solving this problem using the concepts of boolean logic and arithmetic operators, and compare your approach and solution to the example provided!\n"
   ]
  },
  {
   "cell_type": "code",
   "execution_count": 30,
   "metadata": {},
   "outputs": [],
   "source": [
    "def is_elegible(membership_years: int, age: int, attended: int, referrals: int):\n",
    "    return referrals > 3 or ((membership_years >= 2 or age > 60) and attended >= 100)\n"
   ]
  },
  {
   "cell_type": "code",
   "execution_count": 38,
   "metadata": {},
   "outputs": [
    {
     "name": "stdout",
     "output_type": "stream",
     "text": [
      "lots of referrals: True\n",
      "over 60: True\n",
      "lots of years: True\n",
      "lots of years, but not attended enough: False\n"
     ]
    }
   ],
   "source": [
    "print(f\"lots of referrals: {is_elegible(1, 20, 2, 1000)}\")\n",
    "print(f\"over 60: {is_elegible(1, 61, 100, 0)}\")\n",
    "print(f\"lots of years: {is_elegible(3, 50, 100, 0)}\")\n",
    "print(f\"lots of years, but not attended enough: {is_elegible(3, 50, 99, 0)}\")\n"
   ]
  }
 ],
 "metadata": {
  "kernelspec": {
   "display_name": "Python 3",
   "language": "python",
   "name": "python3"
  },
  "language_info": {
   "codemirror_mode": {
    "name": "ipython",
    "version": 3
   },
   "file_extension": ".py",
   "mimetype": "text/x-python",
   "name": "python",
   "nbconvert_exporter": "python",
   "pygments_lexer": "ipython3",
   "version": "3.11.1"
  }
 },
 "nbformat": 4,
 "nbformat_minor": 2
}
