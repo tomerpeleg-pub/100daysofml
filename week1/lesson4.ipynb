{
 "cells": [
  {
   "cell_type": "markdown",
   "metadata": {},
   "source": [
    "# Day 4: Control Structures - Conditionals\n"
   ]
  },
  {
   "cell_type": "code",
   "execution_count": 6,
   "metadata": {},
   "outputs": [
    {
     "name": "stdout",
     "output_type": "stream",
     "text": [
      "nope\n"
     ]
    }
   ],
   "source": [
    "def hello():\n",
    "    print(\"hello world\")\n",
    "\n",
    "\n",
    "if 3 * 2 == 7:\n",
    "    hello()\n",
    "else:\n",
    "    print(\"nope\")\n"
   ]
  },
  {
   "cell_type": "markdown",
   "metadata": {},
   "source": [
    "## FizzBuzz Problem Statement\n",
    "\n",
    "FizzBuzz is a classic programming task, often used in job interviews to assess basic programming skills. The challenge is as follows:\n",
    "\n",
    "- Print numbers from 1 to 100.\n",
    "- For multiples of 3, print “Fizz” instead of the number.\n",
    "- For multiples of 5, print “Buzz” instead of the number.\n",
    "- For numbers which are multiples of both 3 and 5, print “FizzBuzz”.\n"
   ]
  },
  {
   "cell_type": "code",
   "execution_count": 7,
   "metadata": {},
   "outputs": [
    {
     "name": "stdout",
     "output_type": "stream",
     "text": [
      "1\n",
      "2\n",
      "Fizz\n",
      "4\n",
      "Buzz\n",
      "Fizz\n",
      "7\n",
      "8\n",
      "Fizz\n",
      "Buzz\n",
      "11\n",
      "Fizz\n",
      "13\n",
      "14\n",
      "FizzBuzz\n",
      "16\n",
      "17\n",
      "Fizz\n",
      "19\n",
      "Buzz\n",
      "Fizz\n",
      "22\n",
      "23\n",
      "Fizz\n",
      "Buzz\n",
      "26\n",
      "Fizz\n",
      "28\n",
      "29\n",
      "FizzBuzz\n",
      "31\n",
      "32\n",
      "Fizz\n",
      "34\n",
      "Buzz\n",
      "Fizz\n",
      "37\n",
      "38\n",
      "Fizz\n",
      "Buzz\n",
      "41\n",
      "Fizz\n",
      "43\n",
      "44\n",
      "FizzBuzz\n",
      "46\n",
      "47\n",
      "Fizz\n",
      "49\n",
      "Buzz\n",
      "Fizz\n",
      "52\n",
      "53\n",
      "Fizz\n",
      "Buzz\n",
      "56\n",
      "Fizz\n",
      "58\n",
      "59\n",
      "FizzBuzz\n",
      "61\n",
      "62\n",
      "Fizz\n",
      "64\n",
      "Buzz\n",
      "Fizz\n",
      "67\n",
      "68\n",
      "Fizz\n",
      "Buzz\n",
      "71\n",
      "Fizz\n",
      "73\n",
      "74\n",
      "FizzBuzz\n",
      "76\n",
      "77\n",
      "Fizz\n",
      "79\n",
      "Buzz\n",
      "Fizz\n",
      "82\n",
      "83\n",
      "Fizz\n",
      "Buzz\n",
      "86\n",
      "Fizz\n",
      "88\n",
      "89\n",
      "FizzBuzz\n",
      "91\n",
      "92\n",
      "Fizz\n",
      "94\n",
      "Buzz\n",
      "Fizz\n",
      "97\n",
      "98\n",
      "Fizz\n",
      "Buzz\n"
     ]
    }
   ],
   "source": [
    "for i in range(1, 101):\n",
    "    s = \"\"\n",
    "\n",
    "    if i % 3 == 0 and i % 5 == 0:\n",
    "        print(\"FizzBuzz\")\n",
    "    elif i % 3 == 0:\n",
    "        print(\"Fizz\")\n",
    "    elif i % 5 == 0:\n",
    "        print(\"Buzz\")\n",
    "    else:\n",
    "        print(i)\n"
   ]
  },
  {
   "cell_type": "markdown",
   "metadata": {},
   "source": [
    "## Temperature Analyzer Problem Statement\n",
    "\n",
    "Create a program that analyzes temperature data and categorizes each temperature entry. The challenge is as follows:\n",
    "\n",
    "- Iterate over a list of temperature readings (in Celsius).\n",
    "- For each temperature:\n",
    "  - If it’s below 0, categorize it as “Freezing”.\n",
    "  - If it’s between 0 and 15 (inclusive), categorize it as “Cold”.\n",
    "  - If it’s between 16 and 25 (inclusive), categorize it as “Moderate”.\n",
    "  - If it’s above 25, categorize it as “Hot”.\n",
    "- Print the temperature and its category.\n"
   ]
  },
  {
   "cell_type": "code",
   "execution_count": 11,
   "metadata": {},
   "outputs": [
    {
     "name": "stdout",
     "output_type": "stream",
     "text": [
      "-25°C is Freezing\n",
      "12.6°C is Cold\n",
      "17°C is Moderate\n",
      "205°C is Hot\n"
     ]
    }
   ],
   "source": [
    "def analyse(temps: list[float]):\n",
    "    for temp in temps:\n",
    "        if temp < 0:\n",
    "            print(f\"{temp}°C is Freezing\")\n",
    "        elif temp <= 15:\n",
    "            print(f\"{temp}°C is Cold\")\n",
    "        elif temp <= 25:\n",
    "            print(f\"{temp}°C is Moderate\")\n",
    "        else:\n",
    "            print(f\"{temp}°C is Hot\")\n",
    "\n",
    "\n",
    "analyse([-25, 12.6, 17, 205])\n"
   ]
  },
  {
   "cell_type": "markdown",
   "metadata": {},
   "source": [
    "## Your Challenge: Daily Step Counter\n",
    "\n",
    "Problem Statement: Write a program that interprets a list of daily step counts. For each day’s step count:\n",
    "\n",
    "- If the steps are less than 5,000, categorize as “Sedentary”.\n",
    "- If the steps are between 5,000 and 7,499 (inclusive), categorize as “Lightly Active”.\n",
    "- If the steps are between 7,500 and 9,999 (inclusive), categorize as “Moderately Active”.\n",
    "- If the steps are 10,000 or more, categorize as “Very Active”.\n",
    "- Print the day number and the corresponding activity category.\n"
   ]
  },
  {
   "cell_type": "code",
   "execution_count": 13,
   "metadata": {},
   "outputs": [
    {
     "name": "stdout",
     "output_type": "stream",
     "text": [
      "50 steps is “Sedentary”\n",
      "5123 steps is Lightly Active\n",
      "7900 steps is Moderately Active\n",
      "1515651 steps is Very Active\n"
     ]
    }
   ],
   "source": [
    "def analyse_steps(steps: list[int]):\n",
    "    for count in steps:\n",
    "        if count < 5000:\n",
    "            print(f\"{count} steps is “Sedentary”\")\n",
    "        elif count < 7500:\n",
    "            print(f\"{count} steps is Lightly Active\")\n",
    "        elif count < 10000:\n",
    "            print(f\"{count} steps is Moderately Active\")\n",
    "        else:\n",
    "            print(f\"{count} steps is Very Active\")\n",
    "\n",
    "\n",
    "analyse_steps([50, 5123, 7900, 1515651])\n"
   ]
  }
 ],
 "metadata": {
  "kernelspec": {
   "display_name": "Python 3",
   "language": "python",
   "name": "python3"
  },
  "language_info": {
   "codemirror_mode": {
    "name": "ipython",
    "version": 3
   },
   "file_extension": ".py",
   "mimetype": "text/x-python",
   "name": "python",
   "nbconvert_exporter": "python",
   "pygments_lexer": "ipython3",
   "version": "3.11.1"
  }
 },
 "nbformat": 4,
 "nbformat_minor": 2
}
