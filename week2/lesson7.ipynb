{
 "cells": [
  {
   "cell_type": "markdown",
   "metadata": {},
   "source": [
    "# Day 7: Linear Algebra - Matrices and Matrix Operations\n"
   ]
  },
  {
   "cell_type": "code",
   "execution_count": 1,
   "metadata": {},
   "outputs": [],
   "source": [
    "import numpy as np"
   ]
  },
  {
   "cell_type": "code",
   "execution_count": 5,
   "metadata": {},
   "outputs": [],
   "source": [
    "x1 = np.array([[1, 2, 3], [4, 5, 6]])\n",
    "\n",
    "y1 = np.array([[7, 8, 9], [10, 11, 12]])\n",
    "\n",
    "z1 = np.array([[1, 3], [5, 7], [9, 11]])\n"
   ]
  },
  {
   "cell_type": "code",
   "execution_count": 6,
   "metadata": {},
   "outputs": [
    {
     "data": {
      "text/plain": [
       "(array([[1, 2, 3],\n",
       "        [4, 5, 6]]),\n",
       " array([[ 7,  8,  9],\n",
       "        [10, 11, 12]]),\n",
       " array([[ 1,  3],\n",
       "        [ 5,  7],\n",
       "        [ 9, 11]]))"
      ]
     },
     "execution_count": 6,
     "metadata": {},
     "output_type": "execute_result"
    }
   ],
   "source": [
    "x1, y1, z1"
   ]
  },
  {
   "cell_type": "code",
   "execution_count": 7,
   "metadata": {},
   "outputs": [
    {
     "data": {
      "text/plain": [
       "((2, 3), (2, 3), (3, 2))"
      ]
     },
     "execution_count": 7,
     "metadata": {},
     "output_type": "execute_result"
    }
   ],
   "source": [
    "x1.shape, y1.shape, z1.shape"
   ]
  },
  {
   "cell_type": "code",
   "execution_count": 8,
   "metadata": {},
   "outputs": [
    {
     "data": {
      "text/plain": [
       "array([[ 8, 10, 12],\n",
       "       [14, 16, 18]])"
      ]
     },
     "execution_count": 8,
     "metadata": {},
     "output_type": "execute_result"
    }
   ],
   "source": [
    "x1 + y1"
   ]
  },
  {
   "cell_type": "code",
   "execution_count": 9,
   "metadata": {},
   "outputs": [
    {
     "ename": "ValueError",
     "evalue": "operands could not be broadcast together with shapes (2,3) (3,2) ",
     "output_type": "error",
     "traceback": [
      "\u001b[1;31m---------------------------------------------------------------------------\u001b[0m",
      "\u001b[1;31mValueError\u001b[0m                                Traceback (most recent call last)",
      "\u001b[1;32mc:\\projects\\100daysofml\\week2\\lesson7.ipynb Cell 7\u001b[0m line \u001b[0;36m1\n\u001b[1;32m----> <a href='vscode-notebook-cell:/c%3A/projects/100daysofml/week2/lesson7.ipynb#W6sZmlsZQ%3D%3D?line=0'>1</a>\u001b[0m x1\u001b[39m+\u001b[39;49mz1\n",
      "\u001b[1;31mValueError\u001b[0m: operands could not be broadcast together with shapes (2,3) (3,2) "
     ]
    }
   ],
   "source": [
    "x1 + z1"
   ]
  },
  {
   "cell_type": "code",
   "execution_count": 10,
   "metadata": {},
   "outputs": [
    {
     "data": {
      "text/plain": [
       "array([[ 5, 10, 15],\n",
       "       [20, 25, 30]])"
      ]
     },
     "execution_count": 10,
     "metadata": {},
     "output_type": "execute_result"
    }
   ],
   "source": [
    "5 * x1"
   ]
  },
  {
   "cell_type": "code",
   "execution_count": 11,
   "metadata": {},
   "outputs": [
    {
     "data": {
      "text/plain": [
       "array([[ 38,  50],\n",
       "       [ 83, 113]])"
      ]
     },
     "execution_count": 11,
     "metadata": {},
     "output_type": "execute_result"
    }
   ],
   "source": [
    "x1 @ z1"
   ]
  },
  {
   "cell_type": "code",
   "execution_count": 12,
   "metadata": {},
   "outputs": [
    {
     "ename": "ValueError",
     "evalue": "matmul: Input operand 1 has a mismatch in its core dimension 0, with gufunc signature (n?,k),(k,m?)->(n?,m?) (size 2 is different from 3)",
     "output_type": "error",
     "traceback": [
      "\u001b[1;31m---------------------------------------------------------------------------\u001b[0m",
      "\u001b[1;31mValueError\u001b[0m                                Traceback (most recent call last)",
      "\u001b[1;32mc:\\projects\\100daysofml\\week2\\lesson7.ipynb Cell 10\u001b[0m line \u001b[0;36m1\n\u001b[1;32m----> <a href='vscode-notebook-cell:/c%3A/projects/100daysofml/week2/lesson7.ipynb#X12sZmlsZQ%3D%3D?line=0'>1</a>\u001b[0m x1 \u001b[39m@\u001b[39;49m y1\n",
      "\u001b[1;31mValueError\u001b[0m: matmul: Input operand 1 has a mismatch in its core dimension 0, with gufunc signature (n?,k),(k,m?)->(n?,m?) (size 2 is different from 3)"
     ]
    }
   ],
   "source": [
    "x1 @ y1"
   ]
  },
  {
   "cell_type": "code",
   "execution_count": 14,
   "metadata": {},
   "outputs": [
    {
     "data": {
      "text/plain": [
       "(array([[0, 0, 0, 8],\n",
       "        [0, 4, 9, 7],\n",
       "        [1, 4, 7, 9],\n",
       "        [6, 8, 9, 9]]),\n",
       " array([[7, 0, 1, 7],\n",
       "        [4, 8, 7, 9],\n",
       "        [5, 0, 0, 9],\n",
       "        [9, 5, 8, 1]]))"
      ]
     },
     "execution_count": 14,
     "metadata": {},
     "output_type": "execute_result"
    }
   ],
   "source": [
    "x2 = np.random.randint(0, 10, size=(4, 4))\n",
    "y2 = np.random.randint(0, 10, size=(4, 4))\n",
    "x2, y2\n"
   ]
  },
  {
   "cell_type": "code",
   "execution_count": 15,
   "metadata": {},
   "outputs": [
    {
     "data": {
      "text/plain": [
       "array([[ 72,  40,  64,   8],\n",
       "       [124,  67,  84, 124],\n",
       "       [139,  77, 101, 115],\n",
       "       [200, 109, 134, 204]])"
      ]
     },
     "execution_count": 15,
     "metadata": {},
     "output_type": "execute_result"
    }
   ],
   "source": [
    "x2 @ y2"
   ]
  },
  {
   "cell_type": "code",
   "execution_count": 16,
   "metadata": {},
   "outputs": [
    {
     "data": {
      "text/plain": [
       "array([[ 43,  60,  70, 128],\n",
       "       [ 61, 132, 202, 232],\n",
       "       [ 54,  72,  81, 121],\n",
       "       [ 14,  60, 110, 188]])"
      ]
     },
     "execution_count": 16,
     "metadata": {},
     "output_type": "execute_result"
    }
   ],
   "source": [
    "y2 @ x2"
   ]
  },
  {
   "cell_type": "code",
   "execution_count": 17,
   "metadata": {},
   "outputs": [],
   "source": [
    "X = np.array([[1, 3, 5], [7, 9, 11], [13, 15, 17]])\n",
    "X_T = X.transpose()\n"
   ]
  },
  {
   "cell_type": "code",
   "execution_count": 18,
   "metadata": {},
   "outputs": [
    {
     "data": {
      "text/plain": [
       "(array([[ 1,  3,  5],\n",
       "        [ 7,  9, 11],\n",
       "        [13, 15, 17]]),\n",
       " array([[ 1,  7, 13],\n",
       "        [ 3,  9, 15],\n",
       "        [ 5, 11, 17]]))"
      ]
     },
     "execution_count": 18,
     "metadata": {},
     "output_type": "execute_result"
    }
   ],
   "source": [
    "X, X_T"
   ]
  },
  {
   "cell_type": "code",
   "execution_count": 25,
   "metadata": {},
   "outputs": [
    {
     "name": "stdout",
     "output_type": "stream",
     "text": [
      "[[ 1  3  5]\n",
      " [ 7  9 11]\n",
      " [13 15 17]] \n",
      "\n",
      "[[-2.81474977e+14  5.62949953e+14 -2.81474977e+14]\n",
      " [ 5.62949953e+14 -1.12589991e+15  5.62949953e+14]\n",
      " [-2.81474977e+14  5.62949953e+14 -2.81474977e+14]]\n"
     ]
    }
   ],
   "source": [
    "X = np.array([[1, 3, 5], [7, 9, 11], [13, 15, 17]])\n",
    "X_inv = np.linalg.inv(X)\n",
    "\n",
    "print(X, \"\\n\")\n",
    "print(X_inv)\n"
   ]
  },
  {
   "cell_type": "code",
   "execution_count": 26,
   "metadata": {},
   "outputs": [
    {
     "data": {
      "text/plain": [
       "array([[ 1.03125, -0.5    ,  0.1875 ],\n",
       "       [ 0.46875,  0.     ,  0.3125 ],\n",
       "       [-0.09375,  2.     ,  0.9375 ]])"
      ]
     },
     "execution_count": 26,
     "metadata": {},
     "output_type": "execute_result"
    }
   ],
   "source": [
    "X @ X_inv  # eh"
   ]
  },
  {
   "cell_type": "code",
   "execution_count": 28,
   "metadata": {},
   "outputs": [
    {
     "name": "stdout",
     "output_type": "stream",
     "text": [
      "[[ 118  194  322]\n",
      " [ 264  405  690]\n",
      " [ 668  895 1610]] \n",
      "\n",
      "[[ 118  264  668]\n",
      " [ 194  405  895]\n",
      " [ 322  690 1610]] \n",
      "\n",
      "[[ 118  264  668]\n",
      " [ 194  405  895]\n",
      " [ 322  690 1610]] \n",
      "\n",
      "[[-2.81926058e+13 -2.93203101e+13  2.79964834e+13]\n",
      " [ 1.97348241e+13  2.05242171e+13 -1.95975384e+13]\n",
      " [-2.81926058e+12 -2.93203101e+12  2.79964834e+12]]\n"
     ]
    }
   ],
   "source": [
    "mat_X = np.array([[5, 3, 1], [9, 6, 3], [13, 12, 11]])\n",
    "mat_Y = np.array([[4, 7, 8], [22, 45, 76], [32, 24, 54]])\n",
    "mat_XY = mat_X @ mat_Y\n",
    "\n",
    "mat_XY_T = mat_XY.T\n",
    "mat_XY_T2 = np.transpose(mat_XY)\n",
    "\n",
    "mat_XY_inv = np.linalg.inv(mat_XY_T)\n",
    "\n",
    "print(mat_XY, \"\\n\")\n",
    "print(mat_XY_T, \"\\n\")\n",
    "print(mat_XY_T2, \"\\n\")\n",
    "print(mat_XY_inv)\n"
   ]
  },
  {
   "cell_type": "code",
   "execution_count": null,
   "metadata": {},
   "outputs": [],
   "source": []
  }
 ],
 "metadata": {
  "kernelspec": {
   "display_name": "Python 3",
   "language": "python",
   "name": "python3"
  },
  "language_info": {
   "codemirror_mode": {
    "name": "ipython",
    "version": 3
   },
   "file_extension": ".py",
   "mimetype": "text/x-python",
   "name": "python",
   "nbconvert_exporter": "python",
   "pygments_lexer": "ipython3",
   "version": "3.11.1"
  }
 },
 "nbformat": 4,
 "nbformat_minor": 2
}
