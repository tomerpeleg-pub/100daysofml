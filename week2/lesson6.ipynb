{
 "cells": [
  {
   "cell_type": "markdown",
   "metadata": {},
   "source": [
    "# Lesson 6: Linear Algebra - Vector Operations in Python\n"
   ]
  },
  {
   "cell_type": "code",
   "execution_count": 2,
   "metadata": {},
   "outputs": [],
   "source": [
    "import numpy as np"
   ]
  },
  {
   "cell_type": "code",
   "execution_count": 4,
   "metadata": {},
   "outputs": [
    {
     "data": {
      "text/plain": [
       "array([1, 3, 4, 5, 6])"
      ]
     },
     "execution_count": 4,
     "metadata": {},
     "output_type": "execute_result"
    }
   ],
   "source": [
    "x = np.array([1, 3, 4, 5, 6])\n",
    "x\n"
   ]
  },
  {
   "cell_type": "code",
   "execution_count": 5,
   "metadata": {},
   "outputs": [
    {
     "data": {
      "text/plain": [
       "4"
      ]
     },
     "execution_count": 5,
     "metadata": {},
     "output_type": "execute_result"
    }
   ],
   "source": [
    "x[2]"
   ]
  },
  {
   "cell_type": "code",
   "execution_count": 33,
   "metadata": {},
   "outputs": [
    {
     "data": {
      "text/plain": [
       "(array([3, 4]), array([1, 2]))"
      ]
     },
     "execution_count": 33,
     "metadata": {},
     "output_type": "execute_result"
    }
   ],
   "source": [
    "x1 = np.array([3, 4])\n",
    "y1 = np.array([1, 2])\n",
    "x1, y1\n"
   ]
  },
  {
   "cell_type": "code",
   "execution_count": 11,
   "metadata": {},
   "outputs": [
    {
     "data": {
      "text/plain": [
       "array([4, 6])"
      ]
     },
     "execution_count": 11,
     "metadata": {},
     "output_type": "execute_result"
    }
   ],
   "source": [
    "sum = x1 + y1\n",
    "sum\n"
   ]
  },
  {
   "cell_type": "code",
   "execution_count": 12,
   "metadata": {},
   "outputs": [
    {
     "data": {
      "text/plain": [
       "array([4, 6])"
      ]
     },
     "execution_count": 12,
     "metadata": {},
     "output_type": "execute_result"
    }
   ],
   "source": [
    "x_add = np.add(x1, y1)\n",
    "x_add\n"
   ]
  },
  {
   "cell_type": "code",
   "execution_count": 13,
   "metadata": {},
   "outputs": [
    {
     "data": {
      "text/plain": [
       "array([2, 2])"
      ]
     },
     "execution_count": 13,
     "metadata": {},
     "output_type": "execute_result"
    }
   ],
   "source": [
    "diff = x1 - y1\n",
    "diff\n"
   ]
  },
  {
   "cell_type": "code",
   "execution_count": 14,
   "metadata": {},
   "outputs": [
    {
     "data": {
      "text/plain": [
       "array([2, 2])"
      ]
     },
     "execution_count": 14,
     "metadata": {},
     "output_type": "execute_result"
    }
   ],
   "source": [
    "diff2 = np.subtract(x1, y1)\n",
    "diff2\n"
   ]
  },
  {
   "cell_type": "code",
   "execution_count": 15,
   "metadata": {},
   "outputs": [
    {
     "data": {
      "text/plain": [
       "array([6, 8])"
      ]
     },
     "execution_count": 15,
     "metadata": {},
     "output_type": "execute_result"
    }
   ],
   "source": [
    "x1 * 2"
   ]
  },
  {
   "cell_type": "code",
   "execution_count": 16,
   "metadata": {},
   "outputs": [
    {
     "data": {
      "text/plain": [
       "array([6, 8])"
      ]
     },
     "execution_count": 16,
     "metadata": {},
     "output_type": "execute_result"
    }
   ],
   "source": [
    "2 * x1"
   ]
  },
  {
   "cell_type": "code",
   "execution_count": 18,
   "metadata": {},
   "outputs": [
    {
     "data": {
      "text/plain": [
       "(5.0, 0.9272952180016122)"
      ]
     },
     "execution_count": 18,
     "metadata": {},
     "output_type": "execute_result"
    }
   ],
   "source": [
    "magnitude = np.linalg.norm(x1)\n",
    "direction = np.arctan2(x1[1], x1[0])\n",
    "\n",
    "magnitude, direction\n"
   ]
  },
  {
   "cell_type": "code",
   "execution_count": 25,
   "metadata": {},
   "outputs": [
    {
     "data": {
      "text/plain": [
       "3"
      ]
     },
     "execution_count": 25,
     "metadata": {},
     "output_type": "execute_result"
    }
   ],
   "source": [
    "x = [1, 3, -5]\n",
    "y = [4, -2, -1]\n",
    "\n",
    "\n",
    "def dot(a, b):\n",
    "    tot = 0\n",
    "\n",
    "    for i in range(0, len(a)):\n",
    "        tot += a[i] * b[i]\n",
    "\n",
    "    return tot\n",
    "\n",
    "\n",
    "dot(x, y)\n"
   ]
  },
  {
   "cell_type": "code",
   "execution_count": 31,
   "metadata": {},
   "outputs": [
    {
     "data": {
      "text/plain": [
       "3"
      ]
     },
     "execution_count": 31,
     "metadata": {},
     "output_type": "execute_result"
    }
   ],
   "source": [
    "nx = np.array(x)\n",
    "ny = np.array(y)\n",
    "\n",
    "np.dot(nx, ny)\n"
   ]
  },
  {
   "cell_type": "code",
   "execution_count": 40,
   "metadata": {},
   "outputs": [
    {
     "name": "stdout",
     "output_type": "stream",
     "text": [
      "11\n",
      "41\n"
     ]
    }
   ],
   "source": [
    "x1 = np.array([3, 4])\n",
    "y1 = np.array([1, 2])\n",
    "\n",
    "d = np.dot(x1, y1)\n",
    "print(d)\n",
    "\n",
    "x1_3D = np.append(x1, 2)\n",
    "y1_3D = np.append(y1, 15)\n",
    "\n",
    "print(np.dot(x1_3D, y1_3D))\n"
   ]
  },
  {
   "cell_type": "code",
   "execution_count": 42,
   "metadata": {},
   "outputs": [
    {
     "data": {
      "text/plain": [
       "array([  7,  21, -14])"
      ]
     },
     "execution_count": 42,
     "metadata": {},
     "output_type": "execute_result"
    }
   ],
   "source": [
    "x1 = np.array([1, 3, 5])\n",
    "y1 = np.array([4, -2, -1])\n",
    "\n",
    "np.cross(x1, y1)\n"
   ]
  },
  {
   "cell_type": "code",
   "execution_count": 43,
   "metadata": {},
   "outputs": [
    {
     "data": {
      "text/plain": [
       "3.7416573867739413"
      ]
     },
     "execution_count": 43,
     "metadata": {},
     "output_type": "execute_result"
    }
   ],
   "source": [
    "import math\n",
    "\n",
    "\n",
    "def vec_norm(a: list[float]):\n",
    "    tot = 0\n",
    "    for n in a:\n",
    "        tot += n**2\n",
    "    return math.sqrt(tot)\n",
    "\n",
    "\n",
    "vec_norm([1, 2, 3])\n"
   ]
  },
  {
   "cell_type": "code",
   "execution_count": 44,
   "metadata": {},
   "outputs": [
    {
     "data": {
      "text/plain": [
       "3.7416573867739413"
      ]
     },
     "execution_count": 44,
     "metadata": {},
     "output_type": "execute_result"
    }
   ],
   "source": [
    "np.linalg.norm(np.array([1, 2, 3]))"
   ]
  },
  {
   "cell_type": "code",
   "execution_count": 49,
   "metadata": {},
   "outputs": [
    {
     "data": {
      "text/plain": [
       "array([1.        , 1.44444444, 1.88888889, 2.33333333, 2.77777778,\n",
       "       3.22222222, 3.66666667, 4.11111111, 4.55555556, 5.        ])"
      ]
     },
     "execution_count": 49,
     "metadata": {},
     "output_type": "execute_result"
    }
   ],
   "source": [
    "np.linspace(1, 5, 10)"
   ]
  },
  {
   "cell_type": "code",
   "execution_count": 53,
   "metadata": {},
   "outputs": [
    {
     "data": {
      "image/png": "[encoded data removed]",
      "text/plain": [
       "<Figure size 640x480 with 1 Axes>"
      ]
     },
     "metadata": {},
     "output_type": "display_data"
    }
   ],
   "source": [
    "import matplotlib.pyplot as plt\n",
    "\n",
    "x1 = np.array([3, 4])\n",
    "y1 = np.array([1, 2])\n",
    "\n",
    "x_add = np.add(x1, y1)\n",
    "\n",
    "\n",
    "# Plotting the original vectors\n",
    "plt.quiver(0, 0, x1[0], x1[1], angles=\"xy\", scale_units=\"xy\", scale=1, color=\"red\")\n",
    "plt.quiver(0, 0, y1[0], y1[1], angles=\"xy\", scale_units=\"xy\", scale=1, color=\"blue\")\n",
    "\n",
    "# Plotting the result of adding the vectors\n",
    "plt.quiver(\n",
    "    0, 0, x_add[0], x_add[1], angles=\"xy\", scale_units=\"xy\", scale=1, color=\"green\"\n",
    ")\n",
    "\n",
    "plt.xlim(-2, 10)\n",
    "plt.ylim(-2, 10)\n",
    "plt.grid()\n",
    "plt.show()\n"
   ]
  },
  {
   "cell_type": "code",
   "execution_count": null,
   "metadata": {},
   "outputs": [],
   "source": [
    "# Hands-On Project: Vector Operations and Visualization\n",
    "\n",
    "import numpy as np\n",
    "import matplotlib.pyplot as plt\n",
    "\n",
    "# Step 1: Create vectors\n",
    "v1 = np.array([3, 2])\n",
    "v2 = np.array([1, 4])\n",
    "\n",
    "# Perform operations\n",
    "v_add = np.add(v1, v2)\n",
    "v_sub = np.subtract(v1, v2)\n",
    "scalar = 3\n",
    "v_scalar_mult = v1 * scalar\n",
    "\n",
    "# Step 2: Dot product\n",
    "dot_product = np.dot(v1, v2)\n",
    "\n",
    "# Visualization\n",
    "plt.quiver(0, 0, v1[0], v1[1], angles=\"xy\", scale_units=\"xy\", scale=1, color=\"r\")\n",
    "plt.quiver(0, 0, v2[0], v2[1], angles=\"xy\", scale_units=\"xy\", scale=1, color=\"b\")\n",
    "plt.quiver(0, 0, v_add[0], v_add[1], angles=\"xy\", scale_units=\"xy\", scale=1, color=\"g\")\n",
    "plt.xlim(-2, 10)\n",
    "plt.ylim(-2, 10)\n",
    "plt.grid()\n",
    "plt.title(\"Vector Operations: Addition (Green), V1 (Red), V2 (Blue)\")\n",
    "plt.show()\n",
    "\n",
    "# Print results\n",
    "print(\"Added Vectors:\", v_add)\n",
    "print(\"Subtracted Vectors:\", v_sub)\n",
    "print(\"Scalar Multiplication:\", v_scalar_mult)\n",
    "print(\"Dot Product:\", dot_product)\n"
   ]
  },
  {
   "cell_type": "code",
   "execution_count": null,
   "metadata": {},
   "outputs": [],
   "source": []
  }
 ],
 "metadata": {
  "kernelspec": {
   "display_name": "Python 3",
   "language": "python",
   "name": "python3"
  },
  "language_info": {
   "name": "python",
   "version": "3.11.1"
  }
 },
 "nbformat": 4,
 "nbformat_minor": 2
}
